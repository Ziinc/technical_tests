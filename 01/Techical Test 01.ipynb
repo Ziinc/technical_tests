{
 "cells": [
  {
   "cell_type": "markdown",
   "metadata": {},
   "source": [
    "# Technical Test 01\n",
    "\n",
    "## Database Schema Design\n",
    "\n",
    ">Q1.1. How can we link \"Task\" to an element of type either \"ItemA\" either \"ItemB\"? An explanation or a schema (drawing) will suffice.\n",
    "\n",
    "We can place the PK for ItemA and PK for ItemB in the Items table with either A or B as optional. However, it would violate 1NF of database normalization as there would be repeating groups of data.\n",
    "\n",
    "This would be more of a quick-and-dirty solution that would lead to technical debt in the future should more changes and complexity be needed.\n",
    "\n",
    "A better solution would be the answer below for Q1.2\n",
    "\n",
    "<img src=\"sql_schema_1.png\" />\n",
    "\n",
    ">Q1.2. How to modify the Task table so that each task element can be link to an item of any type (ItemA, ItemB, .. , ItemM, ItemN, ...).\n",
    "\n",
    "We can use a one-to-many non-optional relationship to isolate the ItemType of each Item, allowing an Item to be either A, B, C... but not allowing an Item to be both A or B at the same time.\n",
    "\n",
    "This would ensure that data is:\n",
    "- without repeating groups (1NF)\n",
    "- data is dependant on key (2NF)\n",
    "- without redundant data (3NF)\n",
    "\n",
    "<img src=\"sql_schema_2.png\" />"
   ]
  },
  {
   "cell_type": "code",
   "execution_count": null,
   "metadata": {
    "collapsed": true
   },
   "outputs": [],
   "source": []
  }
 ],
 "metadata": {
  "kernelspec": {
   "display_name": "Python 3",
   "language": "python",
   "name": "python3"
  },
  "language_info": {
   "codemirror_mode": {
    "name": "ipython",
    "version": 3
   },
   "file_extension": ".py",
   "mimetype": "text/x-python",
   "name": "python",
   "nbconvert_exporter": "python",
   "pygments_lexer": "ipython3",
   "version": "3.6.1"
  }
 },
 "nbformat": 4,
 "nbformat_minor": 2
}
