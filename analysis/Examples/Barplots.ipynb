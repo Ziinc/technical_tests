{
 "cells": [
  {
   "cell_type": "code",
   "execution_count": 46,
   "metadata": {},
   "outputs": [
    {
     "data": {
      "text/plain": [
       "array([17, 16,  8,  9, 14])"
      ]
     },
     "execution_count": 46,
     "metadata": {},
     "output_type": "execute_result"
    }
   ],
   "source": [
    "import numpy as np\n",
    "import matplotlib.pyplot as plt\n",
    "\n",
    "# Our data\n",
    "arr = np.random.randint(2,20, size=(5))\n",
    "arr"
   ]
  },
  {
   "cell_type": "code",
   "execution_count": 47,
   "metadata": {},
   "outputs": [
    {
     "data": {
      "text/plain": [
       "[17, 16, 8, 9, 14]"
      ]
     },
     "execution_count": 47,
     "metadata": {},
     "output_type": "execute_result"
    }
   ],
   "source": [
    "data = np.ndarray.tolist(arr)\n",
    "data"
   ]
  },
  {
   "cell_type": "code",
   "execution_count": 48,
   "metadata": {},
   "outputs": [
    {
     "data": {
      "text/plain": [
       "array([0, 1, 2, 3, 4])"
      ]
     },
     "execution_count": 48,
     "metadata": {},
     "output_type": "execute_result"
    }
   ],
   "source": [
    "bars = ('A', 'B', 'C', 'D', 'E')\n",
    "pos = np.arange(len(bars))\n",
    "pos"
   ]
  },
  {
   "cell_type": "code",
   "execution_count": 49,
   "metadata": {},
   "outputs": [
    {
     "data": {
      "text/plain": [
       "<Container object of 5 artists>"
      ]
     },
     "execution_count": 49,
     "metadata": {},
     "output_type": "execute_result"
    }
   ],
   "source": [
    "plt.bar(pos, data) # creates bars"
   ]
  },
  {
   "cell_type": "code",
   "execution_count": 50,
   "metadata": {},
   "outputs": [
    {
     "data": {
      "text/plain": [
       "([<matplotlib.axis.XTick at 0x1261f0b47b8>,\n",
       "  <matplotlib.axis.XTick at 0x1261efd9470>,\n",
       "  <matplotlib.axis.XTick at 0x1261f09eef0>,\n",
       "  <matplotlib.axis.XTick at 0x1261f123550>,\n",
       "  <matplotlib.axis.XTick at 0x1261f123f28>],\n",
       " <a list of 5 Text xticklabel objects>)"
      ]
     },
     "execution_count": 50,
     "metadata": {},
     "output_type": "execute_result"
    }
   ],
   "source": [
    "plt.xticks(pos, bars) #Creates names on x axis"
   ]
  },
  {
   "cell_type": "code",
   "execution_count": 51,
   "metadata": {},
   "outputs": [
    {
     "data": {
      "image/png": "[encoded data removed]",
      "text/plain": [
       "<matplotlib.figure.Figure at 0x1261f014320>"
      ]
     },
     "metadata": {},
     "output_type": "display_data"
    }
   ],
   "source": [
    "plt.show()"
   ]
  },
  {
   "cell_type": "code",
   "execution_count": 52,
   "metadata": {},
   "outputs": [
    {
     "data": {
      "image/png": "[encoded data removed]",
      "text/plain": [
       "<matplotlib.figure.Figure at 0x1261efe6c50>"
      ]
     },
     "metadata": {},
     "output_type": "display_data"
    }
   ],
   "source": [
    "plt.barh(pos, data)\n",
    "plt.yticks(pos, bars)\n",
    "plt.show()"
   ]
  },
  {
   "cell_type": "code",
   "execution_count": 54,
   "metadata": {},
   "outputs": [
    {
     "data": {
      "image/png": "[encoded data removed]",
      "text/plain": [
       "<matplotlib.figure.Figure at 0x1261f1bfd30>"
      ]
     },
     "metadata": {},
     "output_type": "display_data"
    }
   ],
   "source": [
    "plt.bar(pos, data, color=(0.3, 0.4, 0.6, 0.8)) \n",
    "#uses RGB + alpha i.e. transparency\n",
    "plt.xticks(pos, bars)\n",
    "plt.show()"
   ]
  },
  {
   "cell_type": "code",
   "execution_count": 57,
   "metadata": {},
   "outputs": [
    {
     "data": {
      "image/png": "[encoded data removed]",
      "text/plain": [
       "<matplotlib.figure.Figure at 0x1261f2c6860>"
      ]
     },
     "metadata": {},
     "output_type": "display_data"
    }
   ],
   "source": [
    "plt.bar(pos, data, color=[\n",
    "    'black',\n",
    "    'red',\n",
    "    'green',\n",
    "    (0.3, 0.4, 0.6, 0.8),\n",
    "    'cyan',\n",
    "]) \n",
    "#uses RGB + alpha i.e. transparency\n",
    "plt.xticks(pos, bars)\n",
    "plt.show()"
   ]
  },
  {
   "cell_type": "code",
   "execution_count": 60,
   "metadata": {},
   "outputs": [
    {
     "data": {
      "image/png": "[encoded data removed]",
      "text/plain": [
       "<matplotlib.figure.Figure at 0x1261f1b19e8>"
      ]
     },
     "metadata": {},
     "output_type": "display_data"
    }
   ],
   "source": [
    "plt.bar(pos, data, edgecolor=\"black\", color=[\n",
    "    'black',\n",
    "    'red',\n",
    "    'green',\n",
    "    (0.3, 0.4, 0.6, 0.8),\n",
    "    'cyan',\n",
    "]) \n",
    "#uses RGB + alpha i.e. transparency\n",
    "plt.xticks(pos, bars)\n",
    "plt.show()"
   ]
  },
  {
   "cell_type": "code",
   "execution_count": 61,
   "metadata": {},
   "outputs": [
    {
     "data": {
      "image/png": "[encoded data removed]",
      "text/plain": [
       "<matplotlib.figure.Figure at 0x1261f080080>"
      ]
     },
     "metadata": {},
     "output_type": "display_data"
    }
   ],
   "source": [
    "plt.bar(pos, data, edgecolor=\"black\", color=[\n",
    "    'black',\n",
    "    'red',\n",
    "    'green',\n",
    "    (0.3, 0.4, 0.6, 0.8),\n",
    "    'cyan',\n",
    "]) \n",
    "plt.xticks(pos, bars)\n",
    "plt.title('Oh my so colorful!') # add a title!\n",
    "plt.xlabel('categories')  # add x axis label!\n",
    "plt.ylabel('values') # add y axis label!\n",
    "plt.show()"
   ]
  },
  {
   "cell_type": "code",
   "execution_count": 62,
   "metadata": {},
   "outputs": [
    {
     "data": {
      "image/png": "[encoded data removed]",
      "text/plain": [
       "<matplotlib.figure.Figure at 0x1261f467048>"
      ]
     },
     "metadata": {},
     "output_type": "display_data"
    }
   ],
   "source": [
    "plt.bar(pos, data, edgecolor=\"black\", color=[\n",
    "    'black',\n",
    "    'red',\n",
    "    'green',\n",
    "    (0.3, 0.4, 0.6, 0.8),\n",
    "    'cyan',\n",
    "]) \n",
    "plt.xticks(pos, bars)\n",
    "plt.title('Oh my so colorful!') \n",
    "plt.xlabel('categories')\n",
    "plt.ylabel('values')\n",
    "plt.ylim(0,30) #increase y axis limit\n",
    "plt.show()"
   ]
  },
  {
   "cell_type": "code",
   "execution_count": 71,
   "metadata": {},
   "outputs": [
    {
     "data": {
      "image/png": "[encoded data removed]",
      "text/plain": [
       "<matplotlib.figure.Figure at 0x1261f602940>"
      ]
     },
     "metadata": {},
     "output_type": "display_data"
    }
   ],
   "source": [
    "pos = [0,2,5,7,10] #let's give some space between bars\n",
    "plt.bar(pos, data) \n",
    "plt.xticks(pos, bars, color ='red')\n",
    "plt.title('Oh my so much space!', fontweight='bold', \\\n",
    "          color= 'hotpink', fontsize='15') \n",
    "plt.xlabel('categories')\n",
    "plt.ylabel('values')\n",
    "plt.ylim(0,30) #increase y axis limit\n",
    "plt.show()"
   ]
  },
  {
   "cell_type": "code",
   "execution_count": 81,
   "metadata": {},
   "outputs": [
    {
     "data": {
      "image/png": "[encoded data removed]",
      "text/plain": [
       "<matplotlib.figure.Figure at 0x1261f3e87f0>"
      ]
     },
     "metadata": {},
     "output_type": "display_data"
    }
   ],
   "source": [
    "pos = [0,2,5,7,10] #let's give some space between bars\n",
    "bars = (\"very long group name 1\",\n",
    "        \"very long group name 2\",\n",
    "        \"very long group name 3\",\n",
    "        \"very long group name 4\",\n",
    "        \"very long group name 5\")\n",
    "plt.bar(pos, data) \n",
    "plt.xticks(pos, bars, rotation=90)\n",
    "plt.title('Oh my so much space!', fontweight='bold', \\\n",
    "          color= 'hotpink', fontsize='15') \n",
    "plt.xlabel('categories')\n",
    "plt.ylabel('values')\n",
    "plt.subplots_adjust(bottom=0.4, top=0.99)\n",
    "plt.show()"
   ]
  },
  {
   "cell_type": "code",
   "execution_count": 85,
   "metadata": {},
   "outputs": [
    {
     "data": {
      "image/png": "[encoded data removed]",
      "text/plain": [
       "<matplotlib.figure.Figure at 0x1261f04ffd0>"
      ]
     },
     "metadata": {},
     "output_type": "display_data"
    }
   ],
   "source": [
    "pos = [0,2,5,7,10] #let's give some space between bars\n",
    "bars = (\"very long group name 1\",\n",
    "        \"very long group name 2\",\n",
    "        \"very long group name 3\",\n",
    "        \"very long group name 4\",\n",
    "        \"very long group name 5\")\n",
    "plt.bar(pos, data) \n",
    "plt.xticks(pos, bars, rotation=90)\n",
    "plt.title('Oh my so much space!', fontweight='bold', \\\n",
    "          color= 'hotpink', fontsize='15') \n",
    "plt.xlabel('categories')\n",
    "plt.ylabel('values')\n",
    "plt.subplots_adjust(bottom=0.4, top=0.99)\n",
    "plt.show()"
   ]
  },
  {
   "cell_type": "markdown",
   "metadata": {},
   "source": [
    "# Grouped Barplot"
   ]
  },
  {
   "cell_type": "code",
   "execution_count": 91,
   "metadata": {},
   "outputs": [
    {
     "data": {
      "image/png": "[encoded data removed]",
      "text/plain": [
       "<matplotlib.figure.Figure at 0x1261f2e7278>"
      ]
     },
     "metadata": {},
     "output_type": "display_data"
    }
   ],
   "source": [
    "barWidth = 0.25\n",
    "bars1 = [12, 30, 1, 8, 22]\n",
    "bars2 = [28, 6, 16, 5, 10]\n",
    "bars3 = [29, 3, 24, 25, 17]\n",
    "\n",
    "r1 = np.arange(len(bars1))\n",
    "r2 = [x + barWidth for x in r1] # iterate over r1\n",
    "r3 = [x + barWidth for x in r2] # iterate over r2\n",
    "\n",
    "plt.bar(r1, bars1, color='orange', width=barWidth, label='var1')\n",
    "plt.bar(r2, bars2, color='skyblue', width=barWidth, label='var2')\n",
    "plt.bar(r3, bars3, color='pink', width=barWidth, label='var3')\n",
    "\n",
    "plt.xlabel('group', fontweight='bold')\n",
    "plt.xticks([r + barWidth for r in range(len(bars1))], ['A', 'B', 'C', 'D', 'E'])\n",
    "\n",
    "plt.legend()\n",
    "plt.show()\n"
   ]
  },
  {
   "cell_type": "markdown",
   "metadata": {},
   "source": [
    "# Stacked Barplot"
   ]
  },
  {
   "cell_type": "code",
   "execution_count": 96,
   "metadata": {},
   "outputs": [
    {
     "data": {
      "image/png": "[encoded data removed]",
      "text/plain": [
       "<matplotlib.figure.Figure at 0x126214882b0>"
      ]
     },
     "metadata": {},
     "output_type": "display_data"
    }
   ],
   "source": [
    "from matplotlib import rc\n",
    "import pandas as pd\n",
    "\n",
    "rc('font', weight='bold') # adjust matplotlibrc file for custom styles\n",
    "\n",
    "orange_bars = [12, 28, 1, 8, 22]\n",
    "blue_bars = [28, 7, 16, 4, 10]\n",
    "pink_bars = [25, 3, 23, 25, 17]\n",
    "\n",
    "orange_blue_bars = [40, 35, 17, 12, 32] #bar1 + bar2\n",
    "\n",
    "r = [0,1,2,3,4]\n",
    "\n",
    "names = ['A','B','C','D','E']\n",
    "barWidth = 1\n",
    "\n",
    "plt.bar(r, orange_bars, color='orange',edgecolor='white', width=barWidth)\n",
    "plt.bar(r, blue_bars, bottom=orange_bars, color='skyblue',edgecolor='white', width=barWidth)\n",
    "plt.bar(r, pink_bars, bottom=orange_blue_bars, color='pink', edgecolor='white', width=barWidth)\n",
    "\n",
    "plt.xticks(r, names, fontweight='bold')\n",
    "plt.xlabel(\"group\")\n",
    "\n",
    "plt.show()"
   ]
  },
  {
   "cell_type": "markdown",
   "metadata": {},
   "source": [
    "# Percentage Stacked Barplot"
   ]
  },
  {
   "cell_type": "code",
   "execution_count": 103,
   "metadata": {},
   "outputs": [
    {
     "data": {
      "text/plain": [
       "[27.0, 31.5, 30.0, 25.0, 30.0]"
      ]
     },
     "execution_count": 103,
     "metadata": {},
     "output_type": "execute_result"
    }
   ],
   "source": [
    "r = [0,1,2,3,4]\n",
    "raw_data = {\n",
    "    'greenBars': [20, 1.5, 7, 10, 5], \n",
    "    'orangeBars': [5, 15, 5, 10, 15],\n",
    "    'blueBars': [2, 15, 18, 5, 10]}\n",
    "df = pd.DataFrame(raw_data)\n",
    "\n",
    "# From raw value to percentage\n",
    "totals = [i+j+k for i,j,k in zip(df['greenBars'], df['orangeBars'], df['blueBars'])]\n",
    "totals"
   ]
  },
  {
   "cell_type": "code",
   "execution_count": 104,
   "metadata": {},
   "outputs": [
    {
     "data": {
      "text/plain": [
       "[74.074074074074076,\n",
       " 4.7619047619047619,\n",
       " 23.333333333333332,\n",
       " 40.0,\n",
       " 16.666666666666664]"
      ]
     },
     "execution_count": 104,
     "metadata": {},
     "output_type": "execute_result"
    }
   ],
   "source": [
    "greenBars = [i / j * 100 for i,j in zip(df['greenBars'], totals)]\n",
    "greenBars"
   ]
  },
  {
   "cell_type": "code",
   "execution_count": 106,
   "metadata": {},
   "outputs": [
    {
     "data": {
      "image/png": "[encoded data removed]",
      "text/plain": [
       "<matplotlib.figure.Figure at 0x1262142ed68>"
      ]
     },
     "metadata": {},
     "output_type": "display_data"
    }
   ],
   "source": [
    "orangeBars = [i / j * 100 for i,j in zip(df['orangeBars'], totals)]\n",
    "blueBars = [i / j * 100 for i,j in zip(df['blueBars'], totals)]\n",
    "\n",
    "\n",
    "plt.bar(r, greenBars, color='#b5ffb9', \\\n",
    "        edgecolor='white', width=barWidth, label=\"group A\")\n",
    "\n",
    "plt.bar(r, orangeBars, bottom=greenBars, color='#f9bc86', \\\n",
    "        edgecolor='white', width=barWidth, label=\"group B\")\n",
    "\n",
    "plt.bar(r, blueBars, bottom=[i+j for i,j in zip(greenBars, orangeBars)], \\\n",
    "        color='#a3acff', edgecolor='white', width=barWidth, label=\"group C\")\n",
    "plt.xticks(r, names)\n",
    "plt.xlabel(\"group\")\n",
    "\n",
    "plt.legend(loc='upper left', bbox_to_anchor=(1,1), ncol=1)\n",
    "\n",
    "\n",
    "plt.show()"
   ]
  },
  {
   "cell_type": "code",
   "execution_count": null,
   "metadata": {
    "collapsed": true
   },
   "outputs": [],
   "source": []
  }
 ],
 "metadata": {
  "kernelspec": {
   "display_name": "Python 3",
   "language": "python",
   "name": "python3"
  },
  "language_info": {
   "codemirror_mode": {
    "name": "ipython",
    "version": 3
   },
   "file_extension": ".py",
   "mimetype": "text/x-python",
   "name": "python",
   "nbconvert_exporter": "python",
   "pygments_lexer": "ipython3",
   "version": "3.6.1"
  }
 },
 "nbformat": 4,
 "nbformat_minor": 2
}
